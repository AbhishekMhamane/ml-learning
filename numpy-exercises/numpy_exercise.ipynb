{
  "nbformat": 4,
  "nbformat_minor": 0,
  "metadata": {
    "colab": {
      "provenance": [],
      "authorship_tag": "ABX9TyOrtsinrZzIinPXzY1rOQZD",
      "include_colab_link": true
    },
    "kernelspec": {
      "name": "python3",
      "display_name": "Python 3"
    },
    "language_info": {
      "name": "python"
    }
  },
  "cells": [
    {
      "cell_type": "markdown",
      "metadata": {
        "id": "view-in-github",
        "colab_type": "text"
      },
      "source": [
        "<a href=\"https://colab.research.google.com/github/AbhishekMhamane/ml-learning/blob/main/numpy-exercises/numpy_exercise.ipynb\" target=\"_parent\"><img src=\"https://colab.research.google.com/assets/colab-badge.svg\" alt=\"Open In Colab\"/></a>"
      ]
    },
    {
      "cell_type": "code",
      "execution_count": null,
      "metadata": {
        "id": "trqXLQIVo78Q"
      },
      "outputs": [],
      "source": [
        "import numpy as np"
      ]
    },
    {
      "cell_type": "code",
      "source": [
        "# Creating arrays\n",
        "\n",
        "a = np.array([[1,2,3],[4,5,6],[7,8,9]])\n",
        "b = np.array([[[1,2,3],[4,5,6]]])\n",
        "\n",
        "print(a.ndim)\n",
        "print(a)\n",
        "print(b.ndim)\n",
        "print(b)\n",
        "\n",
        "arr = np.array([1,2,3,4,5], ndmin=5)\n",
        "print(arr)\n",
        "arrdim = arr.ndim\n",
        "print(\"arr dimentions : {}\".format(arrdim))\n"
      ],
      "metadata": {
        "colab": {
          "base_uri": "https://localhost:8080/"
        },
        "id": "27aA3jIssnFI",
        "outputId": "3d6be7b3-cd54-42da-aa4e-b53ffa1ba696",
        "collapsed": true
      },
      "execution_count": null,
      "outputs": [
        {
          "output_type": "stream",
          "name": "stdout",
          "text": [
            "2\n",
            "[[1 2 3]\n",
            " [4 5 6]\n",
            " [7 8 9]]\n",
            "3\n",
            "[[[1 2 3]\n",
            "  [4 5 6]]]\n",
            "[[[[[1 2 3 4 5]]]]]\n",
            "arr dimentions : 5\n"
          ]
        }
      ]
    },
    {
      "cell_type": "code",
      "source": [
        "# Array indexing\n",
        "\n",
        "arr = np.array([1,2,3,4,5,6,7])\n",
        "print(arr[0])\n",
        "\n",
        "print(a[1,1])\n",
        "print(b[0,1,1])\n",
        "print(a[1,-1])\n",
        "\n",
        "# Array slicing\n",
        "\n",
        "print(arr[1:3])\n",
        "print(arr[3:])\n",
        "print(arr[:3])\n",
        "print(arr[-2:-1])\n",
        "# arr[start:stop:step]\n",
        "print(arr[1:5:2])\n",
        "\n",
        "print(arr[::2])\n",
        "\n",
        "arr = np.array([[1, 2, 3, 4, 5], [6, 7, 8, 9, 10]])\n",
        "print(arr[1, 1:4])"
      ],
      "metadata": {
        "id": "6CHDciiYt7Qa"
      },
      "execution_count": null,
      "outputs": []
    },
    {
      "cell_type": "code",
      "source": [
        "# Data types\n",
        "\n",
        "arr = np.array([1,2,3,4,5], dtype='i')\n",
        "print(arr.dtype)\n",
        "arr = np.array([1,2,3,4,5])\n",
        "print(arr.dtype)\n",
        "\n",
        "arr = np.array([1.1, 2.1, 3.1])\n",
        "newarr = arr.astype('i')\n",
        "print(newarr)\n",
        "print(newarr.dtype)\n",
        "\n",
        "# Copy vs View\n",
        "cparr = np.array([1.1, 2.1, 3.1])\n",
        "x = cparr.copy()\n",
        "y = cparr.view()\n",
        "cparr[0] = 30\n",
        "print(cparr)\n",
        "print(x)\n",
        "print(y)\n",
        "\n",
        "y[2] = 100\n",
        "print(cparr)\n",
        "print(y)\n",
        "\n",
        "print(x.base)\n",
        "print(y.base)"
      ],
      "metadata": {
        "id": "8Pv0T0JSVMPU"
      },
      "execution_count": null,
      "outputs": []
    },
    {
      "cell_type": "code",
      "source": [
        "# Array shape\n",
        "\n",
        "arr = np.array([[1, 2, 3, 4], [5, 6, 7, 8]])\n",
        "print(arr.shape)\n",
        "\n",
        "arr = np.array([1, 2, 3, 4], ndmin=5)\n",
        "print(arr)\n",
        "print('shape of array :', arr.shape)\n",
        "\n",
        "# Array reshape\n",
        "arr = np.array([1, 2, 3, 4, 5, 6, 7, 8, 9, 10, 11, 12])\n",
        "print(arr)\n",
        "newarr = arr.reshape(4, 3)\n",
        "print(newarr)\n",
        "print(newarr.ndim)\n",
        "\n",
        "newarr = arr.reshape(2,3,2)\n",
        "print(newarr)\n",
        "print(newarr.ndim)\n",
        "print(newarr.shape)\n",
        "\n",
        "\n",
        "arr = np.array([1, 2, 3, 4])\n",
        "newarr = arr.reshape(2, 2)\n",
        "print(newarr)\n",
        "\n",
        "arr = np.array([1, 2, 3, 4, 5, 6, 7, 8])\n",
        "newarr = arr.reshape(2, 2, -1)\n",
        "print(newarr)"
      ],
      "metadata": {
        "id": "kGkyR3xRZEAA"
      },
      "execution_count": null,
      "outputs": []
    },
    {
      "cell_type": "code",
      "source": [
        "# Array iteration\n",
        "\n",
        "arr = np.array([[[1, 2], [3, 4]], [[5, 6], [7, 8]]])\n",
        "for x in np.nditer(arr):\n",
        "  print(x)\n",
        "\n",
        "arr = np.array([1, 2, 3])\n",
        "for x in np.nditer(arr, flags=['buffered'], op_dtypes=['S']):\n",
        "  print(x)\n",
        "\n",
        "arr = np.array([[1, 2, 3, 4], [5, 6, 7, 8]])\n",
        "for x in np.nditer(arr[:, ::2]):\n",
        "  print(x)\n",
        "\n",
        "arr = np.array([[1, 2, 3, 4], [5, 6, 7, 8]])\n",
        "for idx, x in np.ndenumerate(arr):\n",
        "  print(idx, x)"
      ],
      "metadata": {
        "id": "NnOMrWHiATDz"
      },
      "execution_count": null,
      "outputs": []
    },
    {
      "cell_type": "code",
      "source": [
        "# Joining arrays\n",
        "arr1 = np.array([[1, 2], [3, 4]])\n",
        "arr2 = np.array([[5, 6], [7, 8]])\n",
        "arr = np.concatenate((arr1, arr2), axis=1)\n",
        "print(arr)\n",
        "\n",
        "arr1 = np.array([1, 2, 3])\n",
        "arr2 = np.array([4, 5, 6])\n",
        "arr = np.stack((arr1, arr2), axis=1)\n",
        "print(arr)\n",
        "\n",
        "arr1 = np.array([1, 2, 3])\n",
        "arr2 = np.array([4, 5, 6])\n",
        "arr = np.vstack((arr1, arr2))\n",
        "print(arr)\n",
        "\n",
        "# Splitting arrays\n",
        "\n",
        "arr = np.array([1, 2, 3, 4, 5, 6])\n",
        "newarr = np.array_split(arr, 3)\n",
        "print(newarr[0])\n",
        "print(newarr[1])\n",
        "print(newarr[2])\n",
        "\n",
        "arr = np.array([[1, 2, 3], [4, 5, 6], [7, 8, 9], [10, 11, 12], [13, 14, 15], [16, 17, 18]])\n",
        "newarr = np.array_split(arr, 3)\n",
        "print(newarr)\n",
        "\n",
        "# Array searching\n",
        "\n",
        "arr = np.array([1, 2, 3, 4, 5, 4, 4])\n",
        "x = np.where(arr == 4)\n",
        "print(x)\n",
        "\n",
        "arr = np.array([6, 7, 8, 9])\n",
        "x = np.searchsorted(arr, 7)\n",
        "print(x)\n",
        "\n",
        "# Array sort\n",
        "arr = np.array([3, 2, 0, 1])\n",
        "print(np.sort(arr))\n",
        "\n",
        "# Filtering array\n",
        "arr = np.array([1, 2, 3, 4, 5, 6, 7])\n",
        "filter_arr = arr % 2 == 0\n",
        "newarr = arr[filter_arr]\n",
        "print(filter_arr)\n",
        "print(newarr)"
      ],
      "metadata": {
        "id": "4BJyXlH3BX9J"
      },
      "execution_count": null,
      "outputs": []
    },
    {
      "cell_type": "code",
      "source": [
        "# arange(start,end,step)\n",
        "arr = np.array([1,2,3,4,5,6,7,8,9])\n",
        "print(arr)\n",
        "arr = np.arange(1,10,2, dtype='complex')\n",
        "print(arr)\n",
        "\n",
        "# zeros\n",
        "arr = np.zeros((3,3), dtype='int')\n",
        "print(arr)\n",
        "arr = np.zeros([3,4])\n",
        "print(arr)\n",
        "\n",
        "# ones\n",
        "arr = np.ones((5,4), dtype='int')\n",
        "print(arr)\n",
        "\n",
        "# empty\n",
        "arr = np.empty((3,3))\n",
        "print(arr)\n",
        "\n",
        "# linspace\n",
        "arr = np.linspace(1,10,9)\n",
        "print(arr)\n",
        "\n",
        "# eye\n",
        "arr = np.eye(3,3)\n",
        "print(arr)\n",
        "\n",
        "# random\n",
        "x = np.random.randint(100)\n",
        "print(x)\n",
        "x = np.random.randint(100,size=(5))\n",
        "print(x)\n",
        "\n",
        "x = np.random.rand(5)\n",
        "print(x)\n",
        "\n",
        "x = np.random.randn(3)\n",
        "print(x)\n",
        "\n",
        "x = np.random.ranf(3)\n",
        "print(x)"
      ],
      "metadata": {
        "id": "gHoi3gcDekH-"
      },
      "execution_count": null,
      "outputs": []
    },
    {
      "cell_type": "code",
      "source": [
        "# flatten\n",
        "arr = np.array([[1,2,3],[4,5,6]])\n",
        "newarr = arr.flatten()\n",
        "print(newarr)\n",
        "newarr = arr.flatten('F')\n",
        "print(newarr)\n",
        "\n",
        "# ravel\n",
        "newarr = arr.ravel()\n",
        "print(newarr)\n",
        "newarr = arr.ravel('F')\n",
        "print(newarr)\n",
        "\n",
        "# transpose\n",
        "a = np.array([[1, 2], [3, 4], [5,6]])\n",
        "print(a)\n",
        "b = np.transpose(a)\n",
        "print(b)\n",
        "\n",
        "b = np.transpose(a, (0,1))\n",
        "print(b)\n",
        "\n",
        "b = np.transpose(b, (1,0))\n",
        "print(b)"
      ],
      "metadata": {
        "id": "fGu7wZI3Syvy"
      },
      "execution_count": null,
      "outputs": []
    },
    {
      "cell_type": "code",
      "source": [
        "# swapaxes\n",
        "a = np.array([\n",
        "    [\n",
        "        [1, 2, 3, 4],\n",
        "        [5, 6, 7, 8],\n",
        "        [9, 10, 11, 12]\n",
        "    ],\n",
        "    [\n",
        "        [13, 14, 15, 16],\n",
        "        [17, 18, 19, 20],\n",
        "        [21, 22, 23, 24]\n",
        "    ]\n",
        "])\n",
        "\n",
        "print(a)\n",
        "b = np.swapaxes(a, 0, 1)\n",
        "print(b)\n",
        "\n",
        "# matrix\n",
        "arr = np.matrix([[1, 2], [3, 4]])\n",
        "print(arr)"
      ],
      "metadata": {
        "id": "Td2I6PaRaT6Q"
      },
      "execution_count": null,
      "outputs": []
    },
    {
      "cell_type": "code",
      "source": [
        "# linear algebra\n",
        "\n",
        "# matrix inverse\n",
        "arr = np.matrix([[1, 2], [3, 4]])\n",
        "print(arr)\n",
        "print(np.linalg.inv(arr))\n",
        "\n",
        "# matrix power\n",
        "print(np.linalg.matrix_power(arr, 2))\n",
        "print(np.dot(arr,arr))\n",
        "\n",
        "# linear equation (x + y = 10)\n",
        "a = np.array([[3,1],[1,2]])\n",
        "b = np.array([9,8])\n",
        "print(np.linalg.solve(a,b))\n",
        "\n",
        "# determinant (ad - bc)\n",
        "print(np.linalg.det(arr))"
      ],
      "metadata": {
        "id": "tbwuYFi1wpWU"
      },
      "execution_count": null,
      "outputs": []
    },
    {
      "cell_type": "code",
      "source": [
        "# Mathematical ops\n",
        "arr1 = np.array([1, 2])\n",
        "arr2 = np.array([3, 4])\n",
        "print(np.dot(arr1, arr2))\n",
        "print(np.sum(arr1))\n",
        "print(np.mean(arr1))\n",
        "print(np.std(arr1))\n",
        "print(np.var(arr1))\n",
        "print(np.min(arr1))\n",
        "print(np.max(arr1))\n",
        "print(np.argmin(arr1))\n",
        "print(np.argmax(arr1))\n",
        "\n",
        "# Broadcasting\n",
        "arr1 = np.array([1, 2, 3])\n",
        "arr2 = np.array([[10], [20], [30]])\n",
        "result = arr1 + arr2\n",
        "print(result)"
      ],
      "metadata": {
        "colab": {
          "base_uri": "https://localhost:8080/"
        },
        "id": "Ebm4sXiU1x_n",
        "outputId": "7ef5e548-01a0-4e49-9fdc-1580cdc32256"
      },
      "execution_count": null,
      "outputs": [
        {
          "output_type": "stream",
          "name": "stdout",
          "text": [
            "11\n",
            "3\n",
            "1.5\n",
            "0.5\n",
            "0.25\n",
            "1\n",
            "2\n",
            "0\n",
            "1\n",
            "[[11 12 13]\n",
            " [21 22 23]\n",
            " [31 32 33]]\n"
          ]
        }
      ]
    }
  ]
}