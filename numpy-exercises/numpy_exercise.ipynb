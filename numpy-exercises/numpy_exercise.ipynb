{
  "nbformat": 4,
  "nbformat_minor": 0,
  "metadata": {
    "colab": {
      "provenance": [],
      "authorship_tag": "ABX9TyPdcYYSLymPbAYUobBNmQ5P",
      "include_colab_link": true
    },
    "kernelspec": {
      "name": "python3",
      "display_name": "Python 3"
    },
    "language_info": {
      "name": "python"
    }
  },
  "cells": [
    {
      "cell_type": "markdown",
      "metadata": {
        "id": "view-in-github",
        "colab_type": "text"
      },
      "source": [
        "<a href=\"https://colab.research.google.com/github/AbhishekMhamane/ml-learning/blob/main/numpy-exercises/numpy_exercise.ipynb\" target=\"_parent\"><img src=\"https://colab.research.google.com/assets/colab-badge.svg\" alt=\"Open In Colab\"/></a>"
      ]
    },
    {
      "cell_type": "code",
      "execution_count": null,
      "metadata": {
        "id": "trqXLQIVo78Q"
      },
      "outputs": [],
      "source": [
        "import numpy as np"
      ]
    },
    {
      "cell_type": "code",
      "source": [
        "# Creating arrays\n",
        "\n",
        "a = np.array([[1,2,3],[4,5,6],[7,8,9]])\n",
        "b = np.array([[[1,2,3],[4,5,6]]])\n",
        "\n",
        "print(a.ndim)\n",
        "print(a)\n",
        "print(b.ndim)\n",
        "print(b)\n",
        "\n",
        "arr = np.array([1,2,3,4,5], ndmin=5)\n",
        "print(arr)\n",
        "arrdim = arr.ndim\n",
        "print(\"arr dimentions : {}\".format(arrdim))\n"
      ],
      "metadata": {
        "colab": {
          "base_uri": "https://localhost:8080/"
        },
        "id": "27aA3jIssnFI",
        "outputId": "3d6be7b3-cd54-42da-aa4e-b53ffa1ba696",
        "collapsed": true
      },
      "execution_count": null,
      "outputs": [
        {
          "output_type": "stream",
          "name": "stdout",
          "text": [
            "2\n",
            "[[1 2 3]\n",
            " [4 5 6]\n",
            " [7 8 9]]\n",
            "3\n",
            "[[[1 2 3]\n",
            "  [4 5 6]]]\n",
            "[[[[[1 2 3 4 5]]]]]\n",
            "arr dimentions : 5\n"
          ]
        }
      ]
    },
    {
      "cell_type": "code",
      "source": [
        "# Array indexing\n",
        "\n",
        "arr = np.array([1,2,3,4,5,6,7])\n",
        "print(arr[0])\n",
        "\n",
        "print(a[1,1])\n",
        "print(b[0,1,1])\n",
        "print(a[1,-1])\n",
        "\n",
        "# Array slicing\n",
        "\n",
        "print(arr[1:3])\n",
        "print(arr[3:])\n",
        "print(arr[:3])\n",
        "print(arr[-2:-1])\n",
        "# arr[start:stop:step]\n",
        "print(arr[1:5:2])\n",
        "\n",
        "print(arr[::2])\n",
        "\n",
        "arr = np.array([[1, 2, 3, 4, 5], [6, 7, 8, 9, 10]])\n",
        "print(arr[1, 1:4])"
      ],
      "metadata": {
        "id": "6CHDciiYt7Qa"
      },
      "execution_count": null,
      "outputs": []
    },
    {
      "cell_type": "code",
      "source": [
        "# Data types\n",
        "\n",
        "arr = np.array([1,2,3,4,5], dtype='i')\n",
        "print(arr.dtype)\n",
        "arr = np.array([1,2,3,4,5])\n",
        "print(arr.dtype)\n",
        "\n",
        "arr = np.array([1.1, 2.1, 3.1])\n",
        "newarr = arr.astype('i')\n",
        "print(newarr)\n",
        "print(newarr.dtype)\n",
        "\n",
        "# Copy vs View\n",
        "cparr = np.array([1.1, 2.1, 3.1])\n",
        "x = cparr.copy()\n",
        "y = cparr.view()\n",
        "cparr[0] = 30\n",
        "print(cparr)\n",
        "print(x)\n",
        "print(y)\n",
        "\n",
        "y[2] = 100\n",
        "print(cparr)\n",
        "print(y)\n",
        "\n",
        "print(x.base)\n",
        "print(y.base)"
      ],
      "metadata": {
        "id": "8Pv0T0JSVMPU"
      },
      "execution_count": null,
      "outputs": []
    },
    {
      "cell_type": "code",
      "source": [
        "# Array shape\n",
        "\n",
        "arr = np.array([[1, 2, 3, 4], [5, 6, 7, 8]])\n",
        "print(arr.shape)\n",
        "\n",
        "arr = np.array([1, 2, 3, 4], ndmin=5)\n",
        "print(arr)\n",
        "print('shape of array :', arr.shape)\n",
        "\n",
        "# Array reshape\n",
        "\n",
        "arr = np.array([1, 2, 3, 4, 5, 6, 7, 8, 9, 10, 11, 12])\n",
        "print(arr)\n",
        "newarr = arr.reshape(4, 3)\n",
        "print(newarr)\n",
        "print(newarr.ndim)\n",
        "\n",
        "newarr = arr.reshape(2,3,2)\n",
        "print(newarr)\n",
        "print(newarr.ndim)"
      ],
      "metadata": {
        "colab": {
          "base_uri": "https://localhost:8080/"
        },
        "id": "kGkyR3xRZEAA",
        "outputId": "ddab9758-b82d-4b67-b588-3f58d1866b94"
      },
      "execution_count": null,
      "outputs": [
        {
          "output_type": "stream",
          "name": "stdout",
          "text": [
            "(2, 4)\n",
            "[[[[[1 2 3 4]]]]]\n",
            "shape of array : (1, 1, 1, 1, 4)\n",
            "[ 1  2  3  4  5  6  7  8  9 10 11 12]\n",
            "[[ 1  2  3]\n",
            " [ 4  5  6]\n",
            " [ 7  8  9]\n",
            " [10 11 12]]\n",
            "2\n",
            "[[[ 1  2]\n",
            "  [ 3  4]\n",
            "  [ 5  6]]\n",
            "\n",
            " [[ 7  8]\n",
            "  [ 9 10]\n",
            "  [11 12]]]\n",
            "3\n"
          ]
        }
      ]
    }
  ]
}