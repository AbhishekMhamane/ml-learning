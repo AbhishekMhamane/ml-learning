{
  "nbformat": 4,
  "nbformat_minor": 0,
  "metadata": {
    "colab": {
      "provenance": [],
      "authorship_tag": "ABX9TyOrtsinrZzIinPXzY1rOQZD",
      "include_colab_link": true
    },
    "kernelspec": {
      "name": "python3",
      "display_name": "Python 3"
    },
    "language_info": {
      "name": "python"
    }
  },
  "cells": [
    {
      "cell_type": "markdown",
      "metadata": {
        "id": "view-in-github",
        "colab_type": "text"
      },
      "source": [
        "<a href=\"https://colab.research.google.com/github/AbhishekMhamane/ml-learning/blob/main/numpy-exercises/numpy_exercise.ipynb\" target=\"_parent\"><img src=\"https://colab.research.google.com/assets/colab-badge.svg\" alt=\"Open In Colab\"/></a>"
      ]
    },
    {
      "cell_type": "code",
      "execution_count": 64,
      "metadata": {
        "id": "trqXLQIVo78Q"
      },
      "outputs": [],
      "source": [
        "import numpy as np"
      ]
    },
    {
      "cell_type": "code",
      "source": [
        "# Creating arrays\n",
        "\n",
        "a = np.array([[1,2,3],[4,5,6],[7,8,9]])\n",
        "b = np.array([[[1,2,3],[4,5,6]]])\n",
        "\n",
        "print(a.ndim)\n",
        "print(a)\n",
        "print(b.ndim)\n",
        "print(b)\n",
        "\n",
        "arr = np.array([1,2,3,4,5], ndmin=5)\n",
        "print(arr)\n",
        "arrdim = arr.ndim\n",
        "print(\"arr dimentions : {}\".format(arrdim))\n"
      ],
      "metadata": {
        "colab": {
          "base_uri": "https://localhost:8080/"
        },
        "id": "27aA3jIssnFI",
        "outputId": "9f31f10d-c3de-4337-f179-913b1f65e04a",
        "collapsed": true
      },
      "execution_count": 65,
      "outputs": [
        {
          "output_type": "stream",
          "name": "stdout",
          "text": [
            "2\n",
            "[[1 2 3]\n",
            " [4 5 6]\n",
            " [7 8 9]]\n",
            "3\n",
            "[[[1 2 3]\n",
            "  [4 5 6]]]\n",
            "[[[[[1 2 3 4 5]]]]]\n",
            "arr dimentions : 5\n"
          ]
        }
      ]
    },
    {
      "cell_type": "code",
      "source": [
        "# Array indexing\n",
        "\n",
        "arr = np.array([1,2,3,4,5,6,7])\n",
        "print(arr[0])\n",
        "\n",
        "print(a[1,1])\n",
        "print(b[0,1,1])\n",
        "print(a[1,-1])\n",
        "\n",
        "# Array slicing\n",
        "\n",
        "print(arr[1:3])\n",
        "print(arr[3:])\n",
        "print(arr[:3])\n",
        "print(arr[-2:-1])\n",
        "# arr[start:stop:step]\n",
        "print(arr[1:5:2])\n",
        "\n",
        "print(arr[::2])\n",
        "\n",
        "arr = np.array([[1, 2, 3, 4, 5], [6, 7, 8, 9, 10]])\n",
        "print(arr[1, 1:4])"
      ],
      "metadata": {
        "id": "6CHDciiYt7Qa",
        "colab": {
          "base_uri": "https://localhost:8080/"
        },
        "outputId": "a8b9bf5f-542c-49f6-de20-f2c0d447e7f0"
      },
      "execution_count": 66,
      "outputs": [
        {
          "output_type": "stream",
          "name": "stdout",
          "text": [
            "1\n",
            "5\n",
            "5\n",
            "6\n",
            "[2 3]\n",
            "[4 5 6 7]\n",
            "[1 2 3]\n",
            "[6]\n",
            "[2 4]\n",
            "[1 3 5 7]\n",
            "[7 8 9]\n"
          ]
        }
      ]
    },
    {
      "cell_type": "code",
      "source": [
        "# Data types\n",
        "\n",
        "arr = np.array([1,2,3,4,5], dtype='i')\n",
        "print(arr.dtype)\n",
        "arr = np.array([1,2,3,4,5])\n",
        "print(arr.dtype)\n",
        "\n",
        "arr = np.array([1.1, 2.1, 3.1])\n",
        "newarr = arr.astype('i')\n",
        "print(newarr)\n",
        "print(newarr.dtype)\n",
        "\n",
        "# Copy vs View\n",
        "cparr = np.array([1.1, 2.1, 3.1])\n",
        "x = cparr.copy()\n",
        "y = cparr.view()\n",
        "cparr[0] = 30\n",
        "print(cparr)\n",
        "print(x)\n",
        "print(y)\n",
        "\n",
        "y[2] = 100\n",
        "print(cparr)\n",
        "print(y)\n",
        "\n",
        "print(x.base)\n",
        "print(y.base)"
      ],
      "metadata": {
        "id": "8Pv0T0JSVMPU",
        "colab": {
          "base_uri": "https://localhost:8080/"
        },
        "outputId": "48cc8de3-ad40-4b5a-9b37-bb8eded82a37"
      },
      "execution_count": 67,
      "outputs": [
        {
          "output_type": "stream",
          "name": "stdout",
          "text": [
            "int32\n",
            "int64\n",
            "[1 2 3]\n",
            "int32\n",
            "[30.   2.1  3.1]\n",
            "[1.1 2.1 3.1]\n",
            "[30.   2.1  3.1]\n",
            "[ 30.    2.1 100. ]\n",
            "[ 30.    2.1 100. ]\n",
            "None\n",
            "[ 30.    2.1 100. ]\n"
          ]
        }
      ]
    },
    {
      "cell_type": "code",
      "source": [
        "# Array shape\n",
        "\n",
        "arr = np.array([[1, 2, 3, 4], [5, 6, 7, 8]])\n",
        "print(arr.shape)\n",
        "\n",
        "arr = np.array([1, 2, 3, 4], ndmin=5)\n",
        "print(arr)\n",
        "print('shape of array :', arr.shape)\n",
        "\n",
        "# Array reshape\n",
        "arr = np.array([1, 2, 3, 4, 5, 6, 7, 8, 9, 10, 11, 12])\n",
        "print(arr)\n",
        "newarr = arr.reshape(4, 3)\n",
        "print(newarr)\n",
        "print(newarr.ndim)\n",
        "\n",
        "newarr = arr.reshape(2,3,2)\n",
        "print(newarr)\n",
        "print(newarr.ndim)\n",
        "print(newarr.shape)\n",
        "\n",
        "\n",
        "arr = np.array([1, 2, 3, 4])\n",
        "newarr = arr.reshape(2, 2)\n",
        "print(newarr)\n",
        "\n",
        "arr = np.array([1, 2, 3, 4, 5, 6, 7, 8])\n",
        "newarr = arr.reshape(2, 2, -1)\n",
        "print(newarr)"
      ],
      "metadata": {
        "id": "kGkyR3xRZEAA",
        "colab": {
          "base_uri": "https://localhost:8080/"
        },
        "outputId": "3e002625-909b-441b-b715-99af3b69ec32"
      },
      "execution_count": 68,
      "outputs": [
        {
          "output_type": "stream",
          "name": "stdout",
          "text": [
            "(2, 4)\n",
            "[[[[[1 2 3 4]]]]]\n",
            "shape of array : (1, 1, 1, 1, 4)\n",
            "[ 1  2  3  4  5  6  7  8  9 10 11 12]\n",
            "[[ 1  2  3]\n",
            " [ 4  5  6]\n",
            " [ 7  8  9]\n",
            " [10 11 12]]\n",
            "2\n",
            "[[[ 1  2]\n",
            "  [ 3  4]\n",
            "  [ 5  6]]\n",
            "\n",
            " [[ 7  8]\n",
            "  [ 9 10]\n",
            "  [11 12]]]\n",
            "3\n",
            "(2, 3, 2)\n",
            "[[1 2]\n",
            " [3 4]]\n",
            "[[[1 2]\n",
            "  [3 4]]\n",
            "\n",
            " [[5 6]\n",
            "  [7 8]]]\n"
          ]
        }
      ]
    },
    {
      "cell_type": "code",
      "source": [
        "# Array iteration\n",
        "\n",
        "arr = np.array([[[1, 2], [3, 4]], [[5, 6], [7, 8]]])\n",
        "for x in np.nditer(arr):\n",
        "  print(x)\n",
        "\n",
        "arr = np.array([1, 2, 3])\n",
        "for x in np.nditer(arr, flags=['buffered'], op_dtypes=['S']):\n",
        "  print(x)\n",
        "\n",
        "arr = np.array([[1, 2, 3, 4], [5, 6, 7, 8]])\n",
        "for x in np.nditer(arr[:, ::2]):\n",
        "  print(x)\n",
        "\n",
        "arr = np.array([[1, 2, 3, 4], [5, 6, 7, 8]])\n",
        "for idx, x in np.ndenumerate(arr):\n",
        "  print(idx, x)"
      ],
      "metadata": {
        "id": "NnOMrWHiATDz",
        "colab": {
          "base_uri": "https://localhost:8080/"
        },
        "outputId": "849fabb6-cd96-45b1-8fde-361715b449e6"
      },
      "execution_count": 69,
      "outputs": [
        {
          "output_type": "stream",
          "name": "stdout",
          "text": [
            "1\n",
            "2\n",
            "3\n",
            "4\n",
            "5\n",
            "6\n",
            "7\n",
            "8\n",
            "b'1'\n",
            "b'2'\n",
            "b'3'\n",
            "1\n",
            "3\n",
            "5\n",
            "7\n",
            "(0, 0) 1\n",
            "(0, 1) 2\n",
            "(0, 2) 3\n",
            "(0, 3) 4\n",
            "(1, 0) 5\n",
            "(1, 1) 6\n",
            "(1, 2) 7\n",
            "(1, 3) 8\n"
          ]
        }
      ]
    },
    {
      "cell_type": "code",
      "source": [
        "# Joining arrays\n",
        "arr1 = np.array([[1, 2], [3, 4]])\n",
        "arr2 = np.array([[5, 6], [7, 8]])\n",
        "arr = np.concatenate((arr1, arr2), axis=1)\n",
        "print(arr)\n",
        "\n",
        "arr1 = np.array([1, 2, 3])\n",
        "arr2 = np.array([4, 5, 6])\n",
        "arr = np.stack((arr1, arr2), axis=1)\n",
        "print(arr)\n",
        "\n",
        "arr1 = np.array([1, 2, 3])\n",
        "arr2 = np.array([4, 5, 6])\n",
        "arr = np.vstack((arr1, arr2))\n",
        "print(arr)\n",
        "\n",
        "# Splitting arrays\n",
        "\n",
        "arr = np.array([1, 2, 3, 4, 5, 6])\n",
        "newarr = np.array_split(arr, 3)\n",
        "print(newarr[0])\n",
        "print(newarr[1])\n",
        "print(newarr[2])\n",
        "\n",
        "arr = np.array([[1, 2, 3], [4, 5, 6], [7, 8, 9], [10, 11, 12], [13, 14, 15], [16, 17, 18]])\n",
        "newarr = np.array_split(arr, 3)\n",
        "print(newarr)\n",
        "\n",
        "# Array searching\n",
        "\n",
        "arr = np.array([1, 2, 3, 4, 5, 4, 4])\n",
        "x = np.where(arr == 4)\n",
        "print(x)\n",
        "\n",
        "arr = np.array([6, 7, 8, 9])\n",
        "x = np.searchsorted(arr, 7)\n",
        "print(x)\n",
        "\n",
        "# Array sort\n",
        "arr = np.array([3, 2, 0, 1])\n",
        "print(np.sort(arr))\n",
        "\n",
        "# Filtering array\n",
        "arr = np.array([1, 2, 3, 4, 5, 6, 7])\n",
        "filter_arr = arr % 2 == 0\n",
        "newarr = arr[filter_arr]\n",
        "print(filter_arr)\n",
        "print(newarr)"
      ],
      "metadata": {
        "id": "4BJyXlH3BX9J",
        "colab": {
          "base_uri": "https://localhost:8080/"
        },
        "outputId": "60df1c33-3ba6-414c-adce-a5ffea28bcc5"
      },
      "execution_count": 70,
      "outputs": [
        {
          "output_type": "stream",
          "name": "stdout",
          "text": [
            "[[1 2 5 6]\n",
            " [3 4 7 8]]\n",
            "[[1 4]\n",
            " [2 5]\n",
            " [3 6]]\n",
            "[[1 2 3]\n",
            " [4 5 6]]\n",
            "[1 2]\n",
            "[3 4]\n",
            "[5 6]\n",
            "[array([[1, 2, 3],\n",
            "       [4, 5, 6]]), array([[ 7,  8,  9],\n",
            "       [10, 11, 12]]), array([[13, 14, 15],\n",
            "       [16, 17, 18]])]\n",
            "(array([3, 5, 6]),)\n",
            "1\n",
            "[0 1 2 3]\n",
            "[False  True False  True False  True False]\n",
            "[2 4 6]\n"
          ]
        }
      ]
    },
    {
      "cell_type": "code",
      "source": [
        "# arange(start,end,step)\n",
        "arr = np.array([1,2,3,4,5,6,7,8,9])\n",
        "print(arr)\n",
        "arr = np.arange(1,10,2, dtype='complex')\n",
        "print(arr)\n",
        "\n",
        "# zeros\n",
        "arr = np.zeros((3,3), dtype='int')\n",
        "print(arr)\n",
        "arr = np.zeros([3,4])\n",
        "print(arr)\n",
        "\n",
        "# ones\n",
        "arr = np.ones((5,4), dtype='int')\n",
        "print(arr)\n",
        "\n",
        "# empty\n",
        "arr = np.empty((3,3))\n",
        "print(arr)\n",
        "\n",
        "# linspace\n",
        "arr = np.linspace(1,10,9)\n",
        "print(arr)\n",
        "\n",
        "# eye\n",
        "arr = np.eye(3,3)\n",
        "print(arr)\n",
        "\n",
        "# random\n",
        "x = np.random.randint(100)\n",
        "print(x)\n",
        "x = np.random.randint(100,size=(5))\n",
        "print(x)\n",
        "\n",
        "x = np.random.rand(5)\n",
        "print(x)\n",
        "\n",
        "x = np.random.randn(3)\n",
        "print(x)\n",
        "\n",
        "x = np.random.ranf(3)\n",
        "print(x)"
      ],
      "metadata": {
        "id": "gHoi3gcDekH-",
        "colab": {
          "base_uri": "https://localhost:8080/"
        },
        "outputId": "2ffdc46c-0565-42d1-caca-2a348ad10b6a"
      },
      "execution_count": 71,
      "outputs": [
        {
          "output_type": "stream",
          "name": "stdout",
          "text": [
            "[1 2 3 4 5 6 7 8 9]\n",
            "[1.+0.j 3.+0.j 5.+0.j 7.+0.j 9.+0.j]\n",
            "[[0 0 0]\n",
            " [0 0 0]\n",
            " [0 0 0]]\n",
            "[[0. 0. 0. 0.]\n",
            " [0. 0. 0. 0.]\n",
            " [0. 0. 0. 0.]]\n",
            "[[1 1 1 1]\n",
            " [1 1 1 1]\n",
            " [1 1 1 1]\n",
            " [1 1 1 1]\n",
            " [1 1 1 1]]\n",
            "[[0. 0. 0.]\n",
            " [0. 0. 0.]\n",
            " [0. 0. 0.]]\n",
            "[ 1.     2.125  3.25   4.375  5.5    6.625  7.75   8.875 10.   ]\n",
            "[[1. 0. 0.]\n",
            " [0. 1. 0.]\n",
            " [0. 0. 1.]]\n",
            "4\n",
            "[17 51 45 52 36]\n",
            "[0.80585691 0.50279561 0.45433514 0.77143651 0.68236003]\n",
            "[-0.00673223 -1.05427988 -1.13331233]\n",
            "[0.0104923  0.83353398 0.60226379]\n"
          ]
        }
      ]
    },
    {
      "cell_type": "code",
      "source": [
        "# flatten\n",
        "arr = np.array([[1,2,3],[4,5,6]])\n",
        "newarr = arr.flatten()\n",
        "print(newarr)\n",
        "newarr = arr.flatten('F')\n",
        "print(newarr)\n",
        "\n",
        "# ravel\n",
        "newarr = arr.ravel()\n",
        "print(newarr)\n",
        "newarr = arr.ravel('F')\n",
        "print(newarr)\n",
        "\n",
        "# transpose\n",
        "a = np.array([[1, 2], [3, 4], [5,6]])\n",
        "print(a)\n",
        "b = np.transpose(a)\n",
        "print(b)\n",
        "\n",
        "b = np.transpose(a, (0,1))\n",
        "print(b)\n",
        "\n",
        "b = np.transpose(b, (1,0))\n",
        "print(b)"
      ],
      "metadata": {
        "id": "fGu7wZI3Syvy",
        "colab": {
          "base_uri": "https://localhost:8080/"
        },
        "outputId": "33026202-fc94-459d-a358-0bb95ec6d250"
      },
      "execution_count": 72,
      "outputs": [
        {
          "output_type": "stream",
          "name": "stdout",
          "text": [
            "[1 2 3 4 5 6]\n",
            "[1 4 2 5 3 6]\n",
            "[1 2 3 4 5 6]\n",
            "[1 4 2 5 3 6]\n",
            "[[1 2]\n",
            " [3 4]\n",
            " [5 6]]\n",
            "[[1 3 5]\n",
            " [2 4 6]]\n",
            "[[1 2]\n",
            " [3 4]\n",
            " [5 6]]\n",
            "[[1 3 5]\n",
            " [2 4 6]]\n"
          ]
        }
      ]
    },
    {
      "cell_type": "code",
      "source": [
        "# swapaxes\n",
        "a = np.array([\n",
        "    [\n",
        "        [1, 2, 3, 4],\n",
        "        [5, 6, 7, 8],\n",
        "        [9, 10, 11, 12]\n",
        "    ],\n",
        "    [\n",
        "        [13, 14, 15, 16],\n",
        "        [17, 18, 19, 20],\n",
        "        [21, 22, 23, 24]\n",
        "    ]\n",
        "])\n",
        "\n",
        "print(a)\n",
        "b = np.swapaxes(a, 0, 1)\n",
        "print(b)\n",
        "\n",
        "# matrix\n",
        "arr = np.matrix([[1, 2], [3, 4]])\n",
        "print(arr)"
      ],
      "metadata": {
        "id": "Td2I6PaRaT6Q",
        "colab": {
          "base_uri": "https://localhost:8080/"
        },
        "outputId": "2835046a-43a5-4d2b-82f4-2b0e7d8e3baf"
      },
      "execution_count": 73,
      "outputs": [
        {
          "output_type": "stream",
          "name": "stdout",
          "text": [
            "[[[ 1  2  3  4]\n",
            "  [ 5  6  7  8]\n",
            "  [ 9 10 11 12]]\n",
            "\n",
            " [[13 14 15 16]\n",
            "  [17 18 19 20]\n",
            "  [21 22 23 24]]]\n",
            "[[[ 1  2  3  4]\n",
            "  [13 14 15 16]]\n",
            "\n",
            " [[ 5  6  7  8]\n",
            "  [17 18 19 20]]\n",
            "\n",
            " [[ 9 10 11 12]\n",
            "  [21 22 23 24]]]\n",
            "[[1 2]\n",
            " [3 4]]\n"
          ]
        }
      ]
    },
    {
      "cell_type": "code",
      "source": [
        "# linear algebra\n",
        "\n",
        "# matrix inverse\n",
        "arr = np.matrix([[1, 2], [3, 4]])\n",
        "print(arr)\n",
        "print(np.linalg.inv(arr))\n",
        "\n",
        "# matrix power\n",
        "print(np.linalg.matrix_power(arr, 2))\n",
        "print(np.dot(arr,arr))\n",
        "\n",
        "# linear equation (x + y = 10)\n",
        "a = np.array([[3,1],[1,2]])\n",
        "b = np.array([9,8])\n",
        "print(np.linalg.solve(a,b))\n",
        "\n",
        "# determinant (ad - bc)\n",
        "print(np.linalg.det(arr))"
      ],
      "metadata": {
        "id": "tbwuYFi1wpWU",
        "colab": {
          "base_uri": "https://localhost:8080/"
        },
        "outputId": "7e883502-9c04-4e8f-f4d1-8e64c0b53497"
      },
      "execution_count": 74,
      "outputs": [
        {
          "output_type": "stream",
          "name": "stdout",
          "text": [
            "[[1 2]\n",
            " [3 4]]\n",
            "[[-2.   1. ]\n",
            " [ 1.5 -0.5]]\n",
            "[[ 7 10]\n",
            " [15 22]]\n",
            "[[ 7 10]\n",
            " [15 22]]\n",
            "[2. 3.]\n",
            "-2.0000000000000004\n"
          ]
        }
      ]
    },
    {
      "cell_type": "code",
      "source": [
        "# Mathematical ops\n",
        "arr1 = np.array([1, 2])\n",
        "arr2 = np.array([3, 4])\n",
        "print(np.dot(arr1, arr2))\n",
        "print(np.sum(arr1))\n",
        "print(np.mean(arr1))\n",
        "print(np.std(arr1))\n",
        "print(np.var(arr1))\n",
        "print(np.min(arr1))\n",
        "print(np.max(arr1))\n",
        "print(np.argmin(arr1))\n",
        "print(np.argmax(arr1))\n",
        "\n",
        "# Broadcasting\n",
        "arr1 = np.array([1, 2, 3])\n",
        "arr2 = np.array([[10], [20], [30]])\n",
        "result = arr1 + arr2\n",
        "print(result)"
      ],
      "metadata": {
        "colab": {
          "base_uri": "https://localhost:8080/"
        },
        "id": "Ebm4sXiU1x_n",
        "outputId": "1b1fc5d2-03a1-4517-fb0f-59b973aff276"
      },
      "execution_count": 75,
      "outputs": [
        {
          "output_type": "stream",
          "name": "stdout",
          "text": [
            "11\n",
            "3\n",
            "1.5\n",
            "0.5\n",
            "0.25\n",
            "1\n",
            "2\n",
            "0\n",
            "1\n",
            "[[11 12 13]\n",
            " [21 22 23]\n",
            " [31 32 33]]\n"
          ]
        }
      ]
    }
  ]
}